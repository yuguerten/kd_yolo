{
 "cells": [
  {
   "cell_type": "code",
   "execution_count": 2,
   "metadata": {},
   "outputs": [
    {
     "name": "stdout",
     "output_type": "stream",
     "text": [
      "Image width: 1632\n",
      "Image height: 1224\n"
     ]
    }
   ],
   "source": [
    "from PIL import Image\n",
    "\n",
    "def get_image_size(image_path):\n",
    "    \"\"\"Return the width and height of the image at image_path.\"\"\"\n",
    "    with Image.open(image_path) as img:\n",
    "        width, height = img.size\n",
    "    return width, height\n",
    "\n",
    "if __name__ == \"__main__\":\n",
    "    image_path = '/home/yuguerten/workspace/kd_yolo/data/raw/archive/tuberculosis-phonecamera/tuberculosis-phone-0001.jpg'\n",
    "    width, height = get_image_size(image_path)\n",
    "    print(\"Image width:\", width)\n",
    "    print(\"Image height:\", height)"
   ]
  }
 ],
 "metadata": {
  "kernelspec": {
   "display_name": "yolo",
   "language": "python",
   "name": "python3"
  },
  "language_info": {
   "codemirror_mode": {
    "name": "ipython",
    "version": 3
   },
   "file_extension": ".py",
   "mimetype": "text/x-python",
   "name": "python",
   "nbconvert_exporter": "python",
   "pygments_lexer": "ipython3",
   "version": "3.9.21"
  }
 },
 "nbformat": 4,
 "nbformat_minor": 2
}
